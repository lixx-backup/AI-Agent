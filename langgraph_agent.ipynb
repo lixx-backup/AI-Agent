{
 "cells": [
  {
   "cell_type": "markdown",
   "id": "825ac9d4-52f6-4131-9ca6-573fa476da82",
   "metadata": {},
   "source": [
    "# LangGraph"
   ]
  },
  {
   "cell_type": "code",
   "execution_count": null,
   "id": "4190a16c-8b92-4143-a0c3-32cca008624f",
   "metadata": {},
   "outputs": [],
   "source": [
    "## State\n",
    "Think of state as the memory or data being passed around in your graph.\n",
    "It’s a dictionary-like object that stores:\n",
    "\n",
    "- The inputs to the graph.\n",
    "\n",
    "- The intermediate results of nodes.\n",
    "\n",
    "- Any variables you want to track across the workflow.\n",
    "States evolve as the graph executes. Each node may update the state by adding new keys or changing values."
   ]
  },
  {
   "cell_type": "code",
   "execution_count": null,
   "id": "4ceb80c7-df03-4239-8def-2dab3e4aad37",
   "metadata": {},
   "outputs": [],
   "source": [
    "state = {\n",
    "    \"query\": \"Find me restaurants nearby\",\n",
    "    \"location\": \"Sydney\",\n",
    "    \"results\": []\n",
    "}\n"
   ]
  },
  {
   "cell_type": "code",
   "execution_count": null,
   "id": "4ab676a9-f657-48a2-99c4-3ea27edce22c",
   "metadata": {},
   "outputs": [],
   "source": [
    "## Node\n",
    "Nodes are the building blocks (like functions) in the graph.\n",
    "\n",
    "Each node:\n",
    "\n",
    "- Takes the current state as input.\n",
    "\n",
    "- Does some processing (e.g., call an LLM, a tool, or custom logic).\n",
    "\n",
    "- Returns an updated state."
   ]
  },
  {
   "cell_type": "code",
   "execution_count": null,
   "id": "44ceda01-723e-4669-b1cf-6f9913240eff",
   "metadata": {},
   "outputs": [],
   "source": [
    "def search_node(state):\n",
    "    query = state[\"query\"]\n",
    "    results = call_search_api(query, location=state[\"location\"])\n",
    "    state[\"results\"] = results\n",
    "    return state"
   ]
  },
  {
   "cell_type": "code",
   "execution_count": null,
   "id": "d161a1f6-2445-4eb2-9520-5fa2ec2b03f9",
   "metadata": {},
   "outputs": [],
   "source": [
    "## Edge\n",
    "Edges define the flow between nodes.\n",
    "\n",
    "They tell the graph: after this node, which node should run next?\n",
    "\n",
    "Types of edges:\n",
    "\n",
    "- Directed edge: A → B (always go from A to B).\n",
    "\n",
    "- Conditional edge: If condition is true, go to Node X, otherwise Node Y."
   ]
  },
  {
   "cell_type": "code",
   "execution_count": null,
   "id": "486d4d52-0ceb-4335-8ee7-451422e22f26",
   "metadata": {},
   "outputs": [],
   "source": [
    "# If results exist, go to ranking node, else go to fallback node\n",
    "if len(state[\"results\"]) > 0:\n",
    "    next_node = \"rank_results\"\n",
    "else:\n",
    "    next_node = \"fallback\""
   ]
  },
  {
   "cell_type": "code",
   "execution_count": null,
   "id": "cfb4c545-15cf-458e-a78d-eb3bbc6ce44c",
   "metadata": {},
   "outputs": [],
   "source": [
    "## StateGraph\n",
    "The StateGraph is the container that holds your entire agent workflow.\n",
    "Here is an example of How to Use LangGraph:"
   ]
  },
  {
   "cell_type": "code",
   "execution_count": 87,
   "id": "b30a9720-ffe6-4e7c-91e2-60a2c333688f",
   "metadata": {},
   "outputs": [],
   "source": [
    "from langgraph.graph import StateGraph, START, END\n",
    "from typing_extensions import TypedDict\n"
   ]
  },
  {
   "cell_type": "code",
   "execution_count": 94,
   "id": "5c2859cf-b865-4ef2-af4c-1d0d8ddf66a5",
   "metadata": {},
   "outputs": [
    {
     "data": {
      "text/plain": [
       "<langgraph.graph.state.StateGraph at 0x110d45390>"
      ]
     },
     "execution_count": 94,
     "metadata": {},
     "output_type": "execute_result"
    }
   ],
   "source": [
    "class State(TypedDict):\n",
    "    name: str\n",
    "graph = StateGraph(State)\n",
    "\n",
    "def node1(state: State):\n",
    "    return {\"name\": state[\"name\"] + \"1\"}\n",
    "\n",
    "def node2(state: State):\n",
    "    return {\"name\": state[\"name\"] + \"2\"}\n",
    "\n",
    "def node3(state: State):\n",
    "    return {\"name\": state[\"name\"] + \"3\"}\n",
    "\n",
    "def node4(state: State):\n",
    "    return {\"name\": state[\"name\"] + \"4\"}\n",
    "\n",
    "# Logic\n",
    "def decide_mood(state):\n",
    "    name = state[\"name\"]\n",
    "    if len(name)>5:\n",
    "        print (\"Greater than 5\")\n",
    "        return \"long\"\n",
    "    else:\n",
    "        print(\"Less than or Equal to 5\")\n",
    "        return \"short\"\n",
    "\n",
    "graph.add_node(\"node1\", node1)\n",
    "graph.add_node(\"node2\", node2)\n",
    "graph.add_node(\"node3\", node3)\n",
    "graph.add_node(\"node4\", node4)\n",
    "\n",
    "# Add an entry point to tell the graph where to start its work each time it is run:\n",
    "graph.add_edge(START, \"node1\")\n",
    "graph.add_conditional_edges(\"node1\", decide_mood, {\"long\": \"node2\", \"short\": \"node3\"})\n",
    "graph.add_edge(\"node2\", \"node4\")\n",
    "graph.add_edge(\"node3\", \"node4\")\n",
    "# Add an exit point to indicate where the graph should finish execution. This is helpful for more complex flows, but even in a simple graph like this, adding an end node improves clarity\n",
    "graph.add_edge(\"node4\", END)"
   ]
  },
  {
   "cell_type": "code",
   "execution_count": null,
   "id": "521bd514-6a4e-45b0-ba4c-0b92e31526fe",
   "metadata": {},
   "outputs": [],
   "source": []
  },
  {
   "cell_type": "code",
   "execution_count": 96,
   "id": "a9e45cd1-74d7-4881-8879-751d2bc99726",
   "metadata": {},
   "outputs": [],
   "source": [
    "from IPython.display import Image, display\n",
    "graph_finished = graph.compile()\n"
   ]
  },
  {
   "cell_type": "code",
   "execution_count": 65,
   "id": "5635023a-7c5e-4e4d-bb4e-38be91c58785",
   "metadata": {},
   "outputs": [
    {
     "data": {
      "text/plain": [
       "5"
      ]
     },
     "execution_count": 65,
     "metadata": {},
     "output_type": "execute_result"
    }
   ],
   "source": [
    "len(\"Chris\")"
   ]
  },
  {
   "cell_type": "code",
   "execution_count": 59,
   "id": "ca553bc1-1a8c-4e9d-a624-90af8d7ca5b1",
   "metadata": {},
   "outputs": [
    {
     "data": {
      "image/png": "[encoded data removed]",
      "text/plain": [
       "<IPython.core.display.Image object>"
      ]
     },
     "metadata": {},
     "output_type": "display_data"
    }
   ],
   "source": [
    "display(Image(graph_finished.get_graph().draw_mermaid_png()))"
   ]
  },
  {
   "cell_type": "code",
   "execution_count": 97,
   "id": "961afb3a-c338-4ece-9e9c-b91bad5a5f62",
   "metadata": {},
   "outputs": [
    {
     "name": "stdout",
     "output_type": "stream",
     "text": [
      "Less than or Equal to 5\n"
     ]
    },
    {
     "data": {
      "text/plain": [
       "{'name': 'A134'}"
      ]
     },
     "execution_count": 97,
     "metadata": {},
     "output_type": "execute_result"
    }
   ],
   "source": [
    "graph_finished.invoke({\"name\": \"A\"})"
   ]
  },
  {
   "cell_type": "code",
   "execution_count": 75,
   "id": "f09bda99-deb7-406d-b34c-36292ae89b13",
   "metadata": {},
   "outputs": [
    {
     "name": "stdout",
     "output_type": "stream",
     "text": [
      "Greater than 5\n"
     ]
    },
    {
     "data": {
      "text/plain": [
       "{'name': 'This is a long name testing124'}"
      ]
     },
     "execution_count": 75,
     "metadata": {},
     "output_type": "execute_result"
    }
   ],
   "source": [
    "graph_finished.invoke({\"name\": \"This is a long name testing\"})"
   ]
  },
  {
   "cell_type": "code",
   "execution_count": null,
   "id": "91d07e66-9edb-4e1e-9f31-e06d788ccd4c",
   "metadata": {},
   "outputs": [],
   "source": []
  }
 ],
 "metadata": {
  "kernelspec": {
   "display_name": "Python 3 (ipykernel)",
   "language": "python",
   "name": "python3"
  },
  "language_info": {
   "codemirror_mode": {
    "name": "ipython",
    "version": 3
   },
   "file_extension": ".py",
   "mimetype": "text/x-python",
   "name": "python",
   "nbconvert_exporter": "python",
   "pygments_lexer": "ipython3",
   "version": "3.13.7"
  }
 },
 "nbformat": 4,
 "nbformat_minor": 5
}
