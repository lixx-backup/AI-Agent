{
 "cells": [
  {
   "cell_type": "markdown",
   "id": "401b9d73-5aa1-4ffe-aaa5-ca03ea05d481",
   "metadata": {},
   "source": [
    "# First Agent\n",
    "We'll use smolagents, a library that provides a freamework for developing your agents with ease.\n",
    "\n",
    "## What does this agent do?"
   ]
  },
  {
   "cell_type": "code",
   "execution_count": null,
   "id": "949d8b79-976f-4362-9208-9ccf4e51e8c9",
   "metadata": {},
   "outputs": [],
   "source": []
  }
 ],
 "metadata": {
  "kernelspec": {
   "display_name": "Python 3 (ipykernel)",
   "language": "python",
   "name": "python3"
  },
  "language_info": {
   "codemirror_mode": {
    "name": "ipython",
    "version": 3
   },
   "file_extension": ".py",
   "mimetype": "text/x-python",
   "name": "python",
   "nbconvert_exporter": "python",
   "pygments_lexer": "ipython3",
   "version": "3.13.7"
  }
 },
 "nbformat": 4,
 "nbformat_minor": 5
}
