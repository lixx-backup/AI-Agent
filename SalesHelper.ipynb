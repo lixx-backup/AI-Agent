{
 "cells": [
  {
   "cell_type": "code",
   "execution_count": null,
   "id": "5bc318df-eec3-4a5a-9d53-9e45cabfd426",
   "metadata": {},
   "outputs": [],
   "source": [
    "from langgraph.graph import StateGraph, START, END\n",
    "from typing_extensions import TypedDict\n",
    "from IPython.display import Image, display\n",
    "from langgraph.prebuilt import create_react_agent\n",
    "from langchain import hub\n",
    "from langgraph.prebuilt import create_react_agent\n",
    "from langchain_community.agent_toolkits import MultionToolkit\n",
    "from langchain_aws import ChatBedrockConverse\n",
    "import os\n",
    "from dotenv import load_dotenv\n",
    "from langchain_community.tools import DuckDuckGoSearchRun\n",
    "from langchain_community.document_loaders import WebBaseLoader\n",
    "\n",
    "load_dotenv()"
   ]
  },
  {
   "cell_type": "code",
   "execution_count": null,
   "id": "b7b15d0c-4fe0-4308-ba9f-c19302b25c45",
   "metadata": {},
   "outputs": [],
   "source": [
    "AWS_ACCESS_KEY_ID = \n",
    "AWS_SECRET_ACCESS_KEY = "
   ]
  },
  {
   "cell_type": "code",
   "execution_count": null,
   "id": "9648f144-3ab8-4256-a750-b8300c1b51db",
   "metadata": {},
   "outputs": [],
   "source": [
    "class State(TypedDict):\n",
    "    url: str\n",
    "    bio: str\n",
    "    industry: str"
   ]
  },
  {
   "cell_type": "code",
   "execution_count": null,
   "id": "29797ae0-5a06-4269-92fd-2aaa70f42912",
   "metadata": {},
   "outputs": [],
   "source": [
    "website = "
   ]
  },
  {
   "cell_type": "code",
   "execution_count": null,
   "id": "94be2743-a57c-4e2b-bf3f-70b92a104955",
   "metadata": {},
   "outputs": [],
   "source": [
    "class BioInfor(BaseModel):\n",
    "    industry: str \n",
    "    about: str"
   ]
  },
  {
   "cell_type": "code",
   "execution_count": null,
   "id": "5a8e008a-24c6-4f44-98c8-46e6d9aed7aa",
   "metadata": {},
   "outputs": [],
   "source": [
    "# this agent to generate company bio and recognise industry\n",
    "prompt = \"\"\"\n",
    "\"\"\"\n",
    "llm = ChatBedrockConverse(\n",
    "    model_id=\"anthropic.claude-3-5-sonnet-latest-v1:0\"\n",
    ")\n",
    "web_toolkit = MultionToolkit()\n",
    "tools = web_toolkit.get_tools()\n",
    "bio_agent = create_react_agent(\n",
    "    model = llm,\n",
    "    tools = tools,\n",
    "    prompt = prompt\n",
    "    \n",
    ")\n",
    "def bio_agent_node(state: State):\n",
    "    bio_parser = PydanticOutputParser(pydantic_object=BioInfo)\n",
    "    result = bio_agent.invoke({\"messages\":[\n",
    "        {\"role\": \"user\", \"content\": state[\"url\"]}\n",
    "    ]})\n",
    "    try:\n",
    "        bio_data = bio_parser.parse(extract_bio_json(result))\n",
    "        return {\"bio\": bio_data.about, \"industry\": bio_data.industry}\n",
    "\n"
   ]
  },
  {
   "cell_type": "code",
   "execution_count": null,
   "id": "fa2bae8c-3392-4065-8975-fb0a9988345f",
   "metadata": {},
   "outputs": [],
   "source": [
    "def industry_news_node(state: State):\n",
    "    prompt = \"\"\"\n",
    "    \"\"\"\n",
    "    search = DuckDuckGoSearchRun()\n",
    "    results = search.invoke(prompt + state[\"industry\"])\n",
    "    return state"
   ]
  },
  {
   "cell_type": "code",
   "execution_count": null,
   "id": "42120c74-6b6b-4a1e-960e-b03caf9324c3",
   "metadata": {},
   "outputs": [],
   "source": [
    "from urllib.parse import quote\n",
    "\n",
    "def usecase_node(state: State):\n",
    "    path = quote(str(state.get('industry', '')).strip('/'))\n",
    "    loader = WebBaseLoader(f\"https://aws.amazon.com/{path}/\")\n",
    "    return state"
   ]
  },
  {
   "cell_type": "code",
   "execution_count": null,
   "id": "0850139c-fb4e-42ca-9d58-73c4eac2912a",
   "metadata": {},
   "outputs": [],
   "source": []
  }
 ],
 "metadata": {
  "kernelspec": {
   "display_name": "Python 3 (ipykernel)",
   "language": "python",
   "name": "python3"
  },
  "language_info": {
   "codemirror_mode": {
    "name": "ipython",
    "version": 3
   },
   "file_extension": ".py",
   "mimetype": "text/x-python",
   "name": "python",
   "nbconvert_exporter": "python",
   "pygments_lexer": "ipython3",
   "version": "3.13.7"
  }
 },
 "nbformat": 4,
 "nbformat_minor": 5
}
