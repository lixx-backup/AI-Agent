{
 "cells": [
  {
   "cell_type": "markdown",
   "id": "e40867a4-7c12-4811-a536-c6e83d4bcead",
   "metadata": {},
   "source": [
    "# AI Tools\n"
   ]
  },
  {
   "cell_type": "code",
   "execution_count": null,
   "id": "09cdb67d-9aae-416c-99a2-8cf675734d4e",
   "metadata": {},
   "outputs": [],
   "source": [
    "from langchain.tools import tool"
   ]
  },
  {
   "cell_type": "markdown",
   "id": "6879a322-2850-457b-a302-0afb5ab9ab0d",
   "metadata": {},
   "source": [
    "The Tool class includes:\n",
    "- `name` (str): The name of the tool.\n",
    "- `description` (str): A brief description of what the tool does.\n",
    "- `function` : The function the tool executes.\n",
    "- `args` (list): The expected input parameters.\n",
    "- `__call__`: Calls the function when the tool instance is invoked.\n"
   ]
  },
  {
   "cell_type": "code",
   "execution_count": 22,
   "id": "cc3a80a7-a607-48d7-b17e-ef08e1b31ca7",
   "metadata": {},
   "outputs": [
    {
     "name": "stdout",
     "output_type": "stream",
     "text": [
      "calculator\n",
      "Multiply two integers.\n",
      "{'a': {'title': 'A', 'type': 'integer'}, 'b': {'title': 'B', 'type': 'integer'}}\n"
     ]
    }
   ],
   "source": [
    "@tool\n",
    "def calculator(a: int, b: int) -> int:\n",
    "    \"\"\"Multiply two integers.\"\"\"\n",
    "    return a * b\n",
    "\n",
    "print(calculator.name)\n",
    "print(calculator.description)\n",
    "print(calculator.args)"
   ]
  },
  {
   "cell_type": "code",
   "execution_count": 23,
   "id": "25850738-d26a-4bba-a45e-508474c53424",
   "metadata": {},
   "outputs": [
    {
     "name": "stdout",
     "output_type": "stream",
     "text": [
      "12\n"
     ]
    }
   ],
   "source": [
    "# pass a dictionary matching the args_schema\n",
    "input_dict = {\"a\": 3, \"b\": 4}\n",
    "result = calculator(input_dict)  # Calls __call__ under the hood\n",
    "print(result)  # 12"
   ]
  },
  {
   "cell_type": "markdown",
   "id": "edd0f857-76be-4f62-9c18-79cda867637f",
   "metadata": {},
   "source": [
    "## How do we give tools to an LLM?\n",
    "Here is a simple example:\n",
    "\n",
    "```\n",
    "system_message=\"\"\"You are an AI assistant designed to help users efficiently and accurately. Your primary goal is to provide helpful, precise, and clear responses. \n",
    "\n",
    "You have access to the following tools: \n",
    "Tool Name: calculator, Description: Multiply two integers., Arguments: a: int, b: int, Outputs: int \"\"\" \n",
    "``` "
   ]
  },
  {
   "cell_type": "code",
   "execution_count": null,
   "id": "5b369162-6686-47ff-b097-d5847b605d34",
   "metadata": {},
   "outputs": [],
   "source": []
  }
 ],
 "metadata": {
  "kernelspec": {
   "display_name": "Python 3 (ipykernel)",
   "language": "python",
   "name": "python3"
  },
  "language_info": {
   "codemirror_mode": {
    "name": "ipython",
    "version": 3
   },
   "file_extension": ".py",
   "mimetype": "text/x-python",
   "name": "python",
   "nbconvert_exporter": "python",
   "pygments_lexer": "ipython3",
   "version": "3.13.7"
  }
 },
 "nbformat": 4,
 "nbformat_minor": 5
}
